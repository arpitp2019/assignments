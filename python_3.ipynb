{
 "cells": [
  {
   "cell_type": "code",
   "execution_count": 1,
   "metadata": {},
   "outputs": [
    {
     "data": {
      "text/plain": [
       "'\\nFunctions are advantageous to have in your programs because they allow you to reuse code and make your program more modular and organized. \\nFunctions can also make your code easier to read and maintain.\\n'"
      ]
     },
     "execution_count": 1,
     "metadata": {},
     "output_type": "execute_result"
    }
   ],
   "source": [
    "'''\n",
    "1. Why are functions advantageous to have in your programs?\n",
    "\n",
    "Answer - Usability of functions is big reason it has advantages and it makes our program more modular and organized. \n",
    "\n",
    "Functions can also make your code easier to read and maintain.\n",
    "'''"
   ]
  },
  {
   "cell_type": "code",
   "execution_count": 3,
   "metadata": {},
   "outputs": [
    {
     "data": {
      "text/plain": [
       "' \\n2. When does the code in a function run: when it is specified or when it is  called?\\n\\nANswer - when the function is called.\\n\\n'"
      ]
     },
     "execution_count": 3,
     "metadata": {},
     "output_type": "execute_result"
    }
   ],
   "source": [
    "''' \n",
    "2. When does the code in a function run: when it is specified or when it is  called?\n",
    "\n",
    "ANswer - when the function is called.\n",
    "\n",
    "'''"
   ]
  },
  {
   "cell_type": "code",
   "execution_count": 4,
   "metadata": {},
   "outputs": [
    {
     "data": {
      "text/plain": [
       "' \\n3. What statement creates a function?\\n\\nANswer - The def statement creates a function in Python.\\n'"
      ]
     },
     "execution_count": 4,
     "metadata": {},
     "output_type": "execute_result"
    }
   ],
   "source": [
    "''' \n",
    "3. What statement creates a function?\n",
    "\n",
    "Answer - The def statement creates a function in Python.\n",
    "'''"
   ]
  },
  {
   "cell_type": "code",
   "execution_count": 5,
   "metadata": {},
   "outputs": [
    {
     "data": {
      "text/plain": [
       "' \\n4. What is the difference between a function and a function call?\\n\\nfunction is a block of code that is defined and named and able to run and give output, \\nwhile a function call is the execution of that function code.\\n'"
      ]
     },
     "execution_count": 5,
     "metadata": {},
     "output_type": "execute_result"
    }
   ],
   "source": [
    "''' \n",
    "4. What is the difference between a function and a function call?\n",
    "\n",
    "Answer - function is a block of code that is defined and named and able to run and give output, \n",
    "         while a function call is the execution of that function code.\n",
    "'''"
   ]
  },
  {
   "cell_type": "code",
   "execution_count": 6,
   "metadata": {},
   "outputs": [
    {
     "data": {
      "text/plain": [
       "' \\n5. How many global scopes are there in a Python program? How many local scopes?\\n\\nAnswer - There is only one global scope in a Python program. \\n\\n         Local scopes can be created within functions.\\n'"
      ]
     },
     "execution_count": 6,
     "metadata": {},
     "output_type": "execute_result"
    }
   ],
   "source": [
    "''' \n",
    "5. How many global scopes are there in a Python program? How many local scopes?\n",
    "\n",
    "Answer - There is only one global scope in a Python program. \n",
    "\n",
    "         Local scopes can be created within functions.\n",
    "'''"
   ]
  },
  {
   "cell_type": "code",
   "execution_count": null,
   "metadata": {},
   "outputs": [],
   "source": [
    "''' \n",
    "6. What happens to variables in a local scope when the function call returns?\n",
    "\n",
    "Answer - Variables defined in a local scope are only accessible within \n",
    "         that scope and they dont work when the function call returns.\n",
    "'''"
   ]
  },
  {
   "cell_type": "code",
   "execution_count": null,
   "metadata": {},
   "outputs": [],
   "source": [
    "'''\n",
    "7. What is the concept of a return value? Is it possible to have a return value in an expression?\n",
    "\n",
    "ANswer - The concept of a return value refers to the value that a function returns to the caller \n",
    " \n",
    "        when it is called.\n",
    "\n",
    "'''"
   ]
  },
  {
   "cell_type": "code",
   "execution_count": 7,
   "metadata": {},
   "outputs": [
    {
     "data": {
      "text/plain": [
       "\" \\n8. If a function does not have a return statement, what is the return value of a call to that function?\\n\\nAnswer - 'None'\\n\""
      ]
     },
     "execution_count": 7,
     "metadata": {},
     "output_type": "execute_result"
    }
   ],
   "source": [
    "''' \n",
    "8. If a function does not have a return statement, what is the return value of a call to that function?\n",
    "\n",
    "Answer - 'None'\n",
    "'''"
   ]
  },
  {
   "cell_type": "code",
   "execution_count": null,
   "metadata": {},
   "outputs": [],
   "source": [
    "''' \n",
    "9. How do you make a function variable refer to the global variable?\n",
    "\n",
    "Answer - by declaring  Global keyword\n",
    "'''"
   ]
  },
  {
   "cell_type": "code",
   "execution_count": null,
   "metadata": {},
   "outputs": [],
   "source": [
    "''' \n",
    "10. What is the data type of None?\n",
    "\n",
    "ANswer - 'NoneType'\n",
    "'''"
   ]
  },
  {
   "cell_type": "code",
   "execution_count": null,
   "metadata": {},
   "outputs": [],
   "source": [
    "''' \n",
    "11. What does the sentence import areallyourpetsnamederic do?\n",
    "\n",
    "Answer - it will import module named 'areallyourpetsnamederic'\n",
    "'''"
   ]
  },
  {
   "cell_type": "code",
   "execution_count": null,
   "metadata": {},
   "outputs": [],
   "source": [
    "''' \n",
    "12. If you had a bacon() feature in a spam module, what would you call it after importing spam?\n",
    "\n",
    "ANswer - import spam\n",
    "         spam.bacon()\n",
    "'''"
   ]
  },
  {
   "cell_type": "code",
   "execution_count": null,
   "metadata": {},
   "outputs": [],
   "source": [
    "''' \n",
    "13. What can you do to save a programme from crashing if it encounters an error?\n",
    "\n",
    "Answer - by using exceptional handling\n",
    "\n",
    "         try:\n",
    "\n",
    "        except:\n",
    "\n",
    "            \n",
    "\n",
    "'''"
   ]
  },
  {
   "cell_type": "code",
   "execution_count": null,
   "metadata": {},
   "outputs": [],
   "source": [
    "''' \n",
    "14. What is the purpose of the try clause? What is the purpose of the except clause?\n",
    "\n",
    "Answer - try will run the code which comes under the try clause,\n",
    "         if any error occures while running code under try clause, \n",
    "         code will return the condition written under except clause.\n",
    "'''"
   ]
  }
 ],
 "metadata": {
  "kernelspec": {
   "display_name": "base",
   "language": "python",
   "name": "python3"
  },
  "language_info": {
   "codemirror_mode": {
    "name": "ipython",
    "version": 3
   },
   "file_extension": ".py",
   "mimetype": "text/x-python",
   "name": "python",
   "nbconvert_exporter": "python",
   "pygments_lexer": "ipython3",
   "version": "3.9.13"
  },
  "orig_nbformat": 4,
  "vscode": {
   "interpreter": {
    "hash": "4fe78c3cfb4a3ed418f39c3fa922688a45887b758135729490bf50ded97a9a1e"
   }
  }
 },
 "nbformat": 4,
 "nbformat_minor": 2
}
