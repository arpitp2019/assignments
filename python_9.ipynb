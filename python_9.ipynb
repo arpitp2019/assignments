{
 "cells": [
  {
   "cell_type": "code",
   "execution_count": 1,
   "metadata": {},
   "outputs": [
    {
     "data": {
      "text/plain": [
       "'data_science/ineuron assignments/python/python_9.ipynb'"
      ]
     },
     "execution_count": 1,
     "metadata": {},
     "output_type": "execute_result"
    }
   ],
   "source": [
    "''' 1. To what does a relative path refer?\n",
    "\n",
    "Answer - It is a partial path that does not include the full directory structure\n",
    "            .\n",
    "'''\n",
    "import os\n",
    "\n",
    "os.path.relpath('data_science/ineuron assignments/python/python_9.ipynb')"
   ]
  },
  {
   "cell_type": "code",
   "execution_count": 2,
   "metadata": {},
   "outputs": [
    {
     "data": {
      "text/plain": [
       "'/home/helium/Desktop/data_science/ineuron assignments/python/python_9.ipynb'"
      ]
     },
     "execution_count": 2,
     "metadata": {},
     "output_type": "execute_result"
    }
   ],
   "source": [
    "''' 2. What does an absolute path start with your operating system?\n",
    "\n",
    "Answer = An absolute path refers to a file or directory with respect to the root of the file system.''' \n",
    "\n",
    "os.path.abspath('python_9.ipynb')"
   ]
  },
  {
   "cell_type": "code",
   "execution_count": 3,
   "metadata": {},
   "outputs": [
    {
     "data": {
      "text/plain": [
       "' 3. What do the functions os.getcwd() and os.chdir() do?\\n\\nAnswer - os.getcwd() to get current working directory\\n\\n         os.chdir() to change the directory\\n'"
      ]
     },
     "execution_count": 3,
     "metadata": {},
     "output_type": "execute_result"
    }
   ],
   "source": [
    "''' 3. What do the functions os.getcwd() and os.chdir() do?\n",
    "\n",
    "Answer - os.getcwd() to get current working directory\n",
    "\n",
    "         os.chdir() to change the directory\n",
    "'''"
   ]
  },
  {
   "cell_type": "code",
   "execution_count": 4,
   "metadata": {},
   "outputs": [
    {
     "data": {
      "text/plain": [
       "' 4. What are the . and .. folders?\\n\\nAnswer - The . directory always refers to the current directory\\n\\n        The .. directory refers to the parent directory of the current directory. \\n'"
      ]
     },
     "execution_count": 4,
     "metadata": {},
     "output_type": "execute_result"
    }
   ],
   "source": [
    "''' 4. What are the . and .. folders?\n",
    "\n",
    "Answer - The . directory always refers to the current directory\n",
    "\n",
    "        The .. directory refers to the parent directory of the current directory. \n",
    "'''"
   ]
  },
  {
   "cell_type": "code",
   "execution_count": 5,
   "metadata": {},
   "outputs": [
    {
     "data": {
      "text/plain": [
       "' 5. In C:\\x08acon\\\\eggs\\\\spam.txt, which part is the dir name, and which part is the base name?\\n\\nAnswer - In the file path C:\\x08acon\\\\eggs\\\\spam.txt, the C:\\x08acon\\\\eggs part is the directory name, \\n\\n          and the spam.txt part is the base name.\\n'"
      ]
     },
     "execution_count": 5,
     "metadata": {},
     "output_type": "execute_result"
    }
   ],
   "source": [
    "''' 5. In C:\\bacon\\eggs\\spam.txt, which part is the dir name, and which part is the base name?\n",
    "\n",
    "Answer - In the file path C:\\bacon\\eggs\\spam.txt, the C:\\bacon\\eggs part is the directory name, \n",
    "\n",
    "          and the spam.txt part is the base name.\n",
    "'''\n"
   ]
  },
  {
   "cell_type": "code",
   "execution_count": 6,
   "metadata": {},
   "outputs": [
    {
     "data": {
      "text/plain": [
       "' 6. What are the three “mode” arguments that can be passed to the open() function?\\n\\n\\n'"
      ]
     },
     "execution_count": 6,
     "metadata": {},
     "output_type": "execute_result"
    }
   ],
   "source": [
    "''' 6. What are the three “mode” arguments that can be passed to the open() function?\n",
    "\n",
    "'''\n",
    "\n",
    "f = open('mexample.txt', 'r') # 'r': This mode is used to open a file for reading. If the file does not exist, or if you do not have permission to read the file,\n",
    "f = open('myfile.txt', 'w') # 'w': This mode is used to open a file for writing. If the file does not exist, it will be created.\n",
    "f = open('myfile.txt', 'a') #'a': This mode is used to open a file for writing in append mode. If the file does not exist, it will be created. If the file already exists, the data that is written will be appended to the end of the file, rather than overwriting the file."
   ]
  },
  {
   "cell_type": "code",
   "execution_count": 7,
   "metadata": {},
   "outputs": [
    {
     "data": {
      "text/plain": [
       "'7. What happens if an existing file is opened in write mode?'"
      ]
     },
     "execution_count": 7,
     "metadata": {},
     "output_type": "execute_result"
    }
   ],
   "source": [
    "'''7. What happens if an existing file is opened in write mode?\n",
    "\n",
    "Answer - the contents of the file will be truncated (erased) \n",
    "         and the file will be opened for writing.\n",
    "''' \n"
   ]
  },
  {
   "cell_type": "code",
   "execution_count": 8,
   "metadata": {},
   "outputs": [
    {
     "data": {
      "text/plain": [
       "' 8. How do you tell the difference between read() and readlines()?'"
      ]
     },
     "execution_count": 8,
     "metadata": {},
     "output_type": "execute_result"
    }
   ],
   "source": [
    "''' 8. How do you tell the difference between read() and readlines()?\n",
    "\n",
    "Answer - read() method reads the whole content of a file and returns it as a single string.\n",
    "\n",
    "        readlines() method reads the entire contents of a file and returns it as a list of strings, \n",
    "        where each string is a line from the file.\n",
    "        \n",
    "'''"
   ]
  },
  {
   "cell_type": "code",
   "execution_count": 9,
   "metadata": {},
   "outputs": [
    {
     "data": {
      "text/plain": [
       "' 9. What data structure does a shelf value resemble?'"
      ]
     },
     "execution_count": 9,
     "metadata": {},
     "output_type": "execute_result"
    }
   ],
   "source": [
    "''' 9. What data structure does a shelf value resemble?\n",
    "\n",
    "Answer - The shelve module allows to create a shelf value and store it on disk, \n",
    "         in form of key value pairs. \n",
    "\n",
    "'''"
   ]
  }
 ],
 "metadata": {
  "kernelspec": {
   "display_name": "base",
   "language": "python",
   "name": "python3"
  },
  "language_info": {
   "codemirror_mode": {
    "name": "ipython",
    "version": 3
   },
   "file_extension": ".py",
   "mimetype": "text/x-python",
   "name": "python",
   "nbconvert_exporter": "python",
   "pygments_lexer": "ipython3",
   "version": "3.9.13"
  },
  "orig_nbformat": 4,
  "vscode": {
   "interpreter": {
    "hash": "4fe78c3cfb4a3ed418f39c3fa922688a45887b758135729490bf50ded97a9a1e"
   }
  }
 },
 "nbformat": 4,
 "nbformat_minor": 2
}
