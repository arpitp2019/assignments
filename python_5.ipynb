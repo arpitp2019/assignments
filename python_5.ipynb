{
 "cells": [
  {
   "cell_type": "code",
   "execution_count": 2,
   "metadata": {},
   "outputs": [],
   "source": [
    "''' \n",
    "1. What does an empty dictionary's code look like?\n",
    "\n",
    "''' \n",
    "empty_dict = {}"
   ]
  },
  {
   "cell_type": "code",
   "execution_count": 4,
   "metadata": {},
   "outputs": [
    {
     "data": {
      "text/plain": [
       "dict_values([42])"
      ]
     },
     "execution_count": 4,
     "metadata": {},
     "output_type": "execute_result"
    }
   ],
   "source": [
    "''' \n",
    "2. What is the value of a dictionary value with the key 'foo' and the value 42?\n",
    "\n",
    "'''\n",
    "dictt = {'foo': 42}\n",
    "\n",
    "dictt.values()"
   ]
  },
  {
   "cell_type": "code",
   "execution_count": null,
   "metadata": {},
   "outputs": [],
   "source": [
    "''' \n",
    "3. What is the most significant distinction between a dictionary and a list?\n",
    "\n",
    "Answer - 1. dictionary has key-value paid, list is simple collection of items   \n",
    "         2. In dictionary - the keys are used to access the values.\n",
    "            In list       - the values are accessed using their indices.\n",
    "'''\n",
    "\n"
   ]
  },
  {
   "cell_type": "code",
   "execution_count": 6,
   "metadata": {},
   "outputs": [
    {
     "ename": "KeyError",
     "evalue": "'foo'",
     "output_type": "error",
     "traceback": [
      "\u001b[0;31m---------------------------------------------------------------------------\u001b[0m",
      "\u001b[0;31mKeyError\u001b[0m                                  Traceback (most recent call last)",
      "\u001b[0;32m/tmp/ipykernel_35534/2219849938.py\u001b[0m in \u001b[0;36m<module>\u001b[0;34m\u001b[0m\n\u001b[1;32m      5\u001b[0m \u001b[0;34m\u001b[0m\u001b[0m\n\u001b[1;32m      6\u001b[0m \u001b[0mspam\u001b[0m \u001b[0;34m=\u001b[0m \u001b[0;34m{\u001b[0m\u001b[0;34m'bar'\u001b[0m\u001b[0;34m:\u001b[0m \u001b[0;36m100\u001b[0m\u001b[0;34m}\u001b[0m\u001b[0;34m\u001b[0m\u001b[0;34m\u001b[0m\u001b[0m\n\u001b[0;32m----> 7\u001b[0;31m \u001b[0mspam\u001b[0m\u001b[0;34m[\u001b[0m\u001b[0;34m'foo'\u001b[0m\u001b[0;34m]\u001b[0m\u001b[0;34m\u001b[0m\u001b[0;34m\u001b[0m\u001b[0m\n\u001b[0m",
      "\u001b[0;31mKeyError\u001b[0m: 'foo'"
     ]
    }
   ],
   "source": [
    "''' \n",
    "4. What happens if you try to access spam['foo'] if spam is {'bar': 100}?\n",
    "\n",
    "'''\n",
    "\n",
    "spam = {'bar': 100}\n",
    "spam['foo'] #KeyError"
   ]
  },
  {
   "cell_type": "code",
   "execution_count": 10,
   "metadata": {},
   "outputs": [
    {
     "name": "stdout",
     "output_type": "stream",
     "text": [
      "True\n",
      "True\n"
     ]
    }
   ],
   "source": [
    "''' \n",
    "5. If a dictionary is stored in spam, what is the difference between the expressions 'cat' in spam and\n",
    "\n",
    "'cat' in spam.keys()?\n",
    "\n",
    "'''\n",
    "spam = {'cat': 'meow'}\n",
    "\n",
    "print('cat' in spam) \n",
    "print('cat' in spam.keys())  \n",
    "# Both are true\n"
   ]
  },
  {
   "cell_type": "code",
   "execution_count": 11,
   "metadata": {},
   "outputs": [
    {
     "name": "stdout",
     "output_type": "stream",
     "text": [
      "True\n",
      "False\n"
     ]
    }
   ],
   "source": [
    "''' \n",
    "6. If a dictionary is stored in spam, what is the difference between the expressions 'cat' in spam and\n",
    "\n",
    "'cat' in spam.values()?\n",
    "\n",
    "'''\n",
    "spam = {'cat': 'meow'}\n",
    "\n",
    "print('cat' in spam) \n",
    "print('cat' in spam.values())  \n"
   ]
  },
  {
   "cell_type": "code",
   "execution_count": 13,
   "metadata": {},
   "outputs": [
    {
     "name": "stdout",
     "output_type": "stream",
     "text": [
      "{'student': 'Arpit', 'age': 23, 'color': 'black'}\n",
      "{'student': 'Arpit', 'age': 23, 'color': 'black'}\n"
     ]
    }
   ],
   "source": [
    "''' \n",
    "7. What is a shortcut for the following code?\n",
    "\n",
    "if 'color' not in spam:\n",
    "\n",
    "spam['color'] = 'black'\n",
    "\n",
    "'''\n",
    "# For this condition we can use setdefault() to insert the key-value if it is not exist.\n",
    "# If inserted key-value already exists ,output will be same as already defined.\n",
    "spam = {'student': 'Arpit', 'age': 23}\n",
    "\n",
    "\n",
    "spam.setdefault('color', 'black')\n",
    "\n",
    "print(spam)  \n",
    "\n",
    "spam.setdefault('age', 30)\n",
    "\n",
    "print(spam)  \n"
   ]
  },
  {
   "cell_type": "code",
   "execution_count": 16,
   "metadata": {},
   "outputs": [
    {
     "name": "stdout",
     "output_type": "stream",
     "text": [
      "{'student': 'Arpit', 'age': 23, 'course': 'Data Science'}\n",
      "{'age': 23, 'course': 'Data Science', 'student': 'Arpit'}\n"
     ]
    }
   ],
   "source": [
    "''' \n",
    "8. How do you &quot;pretty print&quot; dictionary values using which module and function?\n",
    "\n",
    "'''\n",
    "#by using pprint  , out put is more organized and readable\n",
    "\n",
    "from pprint import pprint\n",
    "\n",
    "spam = {'student': 'Arpit', 'age': 23, 'course': 'Data Science'}\n",
    "\n",
    "print(spam)\n",
    "pprint(spam)"
   ]
  },
  {
   "cell_type": "code",
   "execution_count": null,
   "metadata": {},
   "outputs": [],
   "source": []
  }
 ],
 "metadata": {
  "kernelspec": {
   "display_name": "base",
   "language": "python",
   "name": "python3"
  },
  "language_info": {
   "codemirror_mode": {
    "name": "ipython",
    "version": 3
   },
   "file_extension": ".py",
   "mimetype": "text/x-python",
   "name": "python",
   "nbconvert_exporter": "python",
   "pygments_lexer": "ipython3",
   "version": "3.9.13"
  },
  "orig_nbformat": 4,
  "vscode": {
   "interpreter": {
    "hash": "4fe78c3cfb4a3ed418f39c3fa922688a45887b758135729490bf50ded97a9a1e"
   }
  }
 },
 "nbformat": 4,
 "nbformat_minor": 2
}
