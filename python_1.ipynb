{
 "cells": [
  {
   "cell_type": "code",
   "execution_count": 8,
   "metadata": {},
   "outputs": [],
   "source": [
    "'''\n",
    "1. In the below elements which of them are values or an expression? eg:- values can be\n",
    "integer or string and expressions will be mathematical operators.\n",
    "*\n",
    "'hello'\n",
    "-87.8\n",
    "-\n",
    "/\n",
    "+\n",
    "6\n",
    "'''\n",
    "values = ['hello',-87.8,6]\n",
    "expressions = ['-','/','+']"
   ]
  },
  {
   "cell_type": "code",
   "execution_count": 9,
   "metadata": {},
   "outputs": [
    {
     "data": {
      "text/plain": [
       "' \\n2.What is the difference between string and variable?\\n\\n  Variables are use to store data in a program. we can use values to store any kind of data, string, tuple, dictionary\\n\\n  ist etc.\\n\\n  string are arrays of bytes representing unicode characters.\\n\\n  strings are one of the datatype of python or any programming language. strings are always written under \" \" format.\\n\\n  for example,  \"name\", \"s\". \\n\\n'"
      ]
     },
     "execution_count": 9,
     "metadata": {},
     "output_type": "execute_result"
    }
   ],
   "source": [
    "''' \n",
    "2.What is the difference between string and variable?\n",
    "\n",
    "  Variables are use to store data in a program. we can use values to store any kind of data, string, tuple, dictionary\n",
    "\n",
    "  ist etc.\n",
    "\n",
    "  string are arrays of bytes representing unicode characters.\n",
    "\n",
    "  strings are one of the datatype of python or any programming language. strings are always written under \" \" format.\n",
    "\n",
    "  for example,  \"name\", \"s\". \n",
    "\n",
    "'''"
   ]
  },
  {
   "cell_type": "code",
   "execution_count": 10,
   "metadata": {},
   "outputs": [
    {
     "data": {
      "text/plain": [
       "' \\n3.Describe three different data types.\\n\\n(1).Python String Data Type - The string is a sequence of characters and string are iterable . \\n\\n  Python supports Unicode characters. strings are represented by either single or double-quotes.\\n\\n  example - \"my name is xyz\", \"hello\", \" k\", \"3454kjnn45\"\\n\\n\\n(2).Python List Data Type - list can have any number of items and all can be of different data types \\n\\n  (integer, float, string, etc.). For example\\n\\n  example - list = [\\'name\\', 34.65, 345,] \\n  \\n\\n\\n(3).python numeric Data Type - int data type contains numerical character. int, float and complex numbers \\n\\n  comes under numeric data types.\\n\\n  example - 23,45,85.677,85.786 etc.\\n\\n'"
      ]
     },
     "execution_count": 10,
     "metadata": {},
     "output_type": "execute_result"
    }
   ],
   "source": [
    "''' \n",
    "3.Describe three different data types.\n",
    "\n",
    "(1).Python String Data Type - The string is a sequence of characters and string are iterable . \n",
    "\n",
    "  Python supports Unicode characters. strings are represented by either single or double-quotes.\n",
    "\n",
    "  example - \"my name is xyz\", \"hello\", \" k\", \"3454kjnn45\"\n",
    "\n",
    "\n",
    "(2).Python List Data Type - list can have any number of items and all can be of different data types \n",
    "\n",
    "  (integer, float, string, etc.). For example\n",
    "\n",
    "  example - list = ['name', 34.65, 345,] \n",
    "  \n",
    "\n",
    "\n",
    "(3).python numeric Data Type - int data type contains numerical character. int, float and complex numbers \n",
    "\n",
    "  comes under numeric data types.\n",
    "\n",
    "  example - 23,45,85.677,85.786 etc.\n",
    "\n",
    "'''"
   ]
  },
  {
   "cell_type": "code",
   "execution_count": 11,
   "metadata": {},
   "outputs": [
    {
     "data": {
      "text/plain": [
       "' \\n4. What is an expression made up of? What do all expressions do?\\n\\nAn expression in Python can be made up of a variety of elements such as , Variables: These are named storage locations that\\n\\ncan hold values. \\n\\nOperators: These are special symbols that perform operations on values, such as arithmetic operations (+, -, *, /) or \\n\\ncomparison operations (>, <, ==).\\n\\nFunction calls: These are calls to built-in or user-defined functions, which take one or more arguments and return a value.\\n\\nexpressions in Python produce a value.\\n'"
      ]
     },
     "execution_count": 11,
     "metadata": {},
     "output_type": "execute_result"
    }
   ],
   "source": [
    "''' \n",
    "4. What is an expression made up of? What do all expressions do?\n",
    "\n",
    "An expression in Python can be made up of a variety of elements such as , Variables: These are named storage locations that\n",
    "\n",
    "can hold values. \n",
    "\n",
    "Operators: These are special symbols that perform operations on values, such as arithmetic operations (+, -, *, /) or \n",
    "\n",
    "comparison operations (>, <, ==).\n",
    "\n",
    "Function calls: These are calls to built-in or user-defined functions, which take one or more arguments and return a value.\n",
    "\n",
    "expressions in Python produce a value.\n",
    "'''"
   ]
  },
  {
   "cell_type": "code",
   "execution_count": 12,
   "metadata": {},
   "outputs": [
    {
     "data": {
      "text/plain": [
       "' \\n5. This assignment statements, like spam = 10. What is the difference between an\\n\\n   expression and a statement?\\n\\n   Answer - In Python,expression is a line of code that produces a value. \\n\\n   In the assignment statement \"spam = 10\", the expression \"10\" produce value, \\n\\n   but the entire statement is a statement that assigns the value to the variable \"spam\".\\n\\n'"
      ]
     },
     "execution_count": 12,
     "metadata": {},
     "output_type": "execute_result"
    }
   ],
   "source": [
    "''' \n",
    "5. This assignment statements, like spam = 10. What is the difference between an\n",
    "\n",
    "   expression and a statement?\n",
    "\n",
    "   Answer - In Python,expression is a line of code that produces a value. \n",
    "\n",
    "   In the assignment statement \"spam = 10\", the expression \"10\" produce value, \n",
    "\n",
    "   but the entire statement is a statement that assigns the value to the variable \"spam\".\n",
    "\n",
    "'''"
   ]
  },
  {
   "cell_type": "code",
   "execution_count": 13,
   "metadata": {},
   "outputs": [
    {
     "data": {
      "text/plain": [
       "23"
      ]
     },
     "execution_count": 13,
     "metadata": {},
     "output_type": "execute_result"
    }
   ],
   "source": [
    "'''6. After running the following code, what does the variable bacon contain?\n",
    "bacon = 22\n",
    "bacon + 1'''\n",
    "\n",
    "bacon = 22\n",
    "bacon + 1\n",
    "\n",
    "#output = 23"
   ]
  },
  {
   "cell_type": "code",
   "execution_count": 17,
   "metadata": {},
   "outputs": [
    {
     "name": "stdout",
     "output_type": "stream",
     "text": [
      "spamspamspam\n",
      "spamspamspam\n"
     ]
    }
   ],
   "source": [
    "'''\n",
    "7. What should the values of the following two terms be?\n",
    "'spam' + 'spamspam'\n",
    "'spam'*3\n",
    "'''\n",
    "print('spam' + 'spamspam')\n",
    "print('spam' * 3)\n",
    "# string concatnation and multiplication is giving same output."
   ]
  },
  {
   "cell_type": "code",
   "execution_count": 18,
   "metadata": {},
   "outputs": [
    {
     "data": {
      "text/plain": [
       "'8. Why is eggs a valid variable name while 100 is invalid?\\n\\n      In python , values like \"eggs\" are used to store values that can be used and manipulated. and to make sure code is easy\\n\\n      to read and understand but starting variable with number can lead to confusion, because it could be interpreted as a \\n\\n    number .\\n    \\n     python dont accept number as a variable . \\n     '"
      ]
     },
     "execution_count": 18,
     "metadata": {},
     "output_type": "execute_result"
    }
   ],
   "source": [
    "'''8. Why is eggs a valid variable name while 100 is invalid?\n",
    "\n",
    "      In python , values like \"eggs\" are used to store values that can be used and manipulated. and to make sure code is easy\n",
    "\n",
    "      to read and understand but starting variable with number can lead to confusion, because it could be interpreted as a \n",
    "\n",
    "    number .\n",
    "    \n",
    "     python dont accept number as a variable . \n",
    "     '''"
   ]
  },
  {
   "cell_type": "code",
   "execution_count": 19,
   "metadata": {},
   "outputs": [
    {
     "name": "stdout",
     "output_type": "stream",
     "text": [
      "456 <class 'int'>\n",
      "456.656 <class 'float'>\n",
      "15 <class 'str'>\n"
     ]
    }
   ],
   "source": [
    "'''\n",
    "9. What three functions can be used to get the integer, floating-point number, or string\n",
    "\n",
    "   version of a value?'''\n",
    "\n",
    "[int() , float(), str()]\n",
    "\n",
    "x = 456.656\n",
    "print(int(x), type(int(x))) \n",
    "print(float(x),type(float(x)))\n",
    "a = '15'\n",
    "print(str(a),type(str(a)))\n"
   ]
  },
  {
   "cell_type": "code",
   "execution_count": 16,
   "metadata": {},
   "outputs": [
    {
     "name": "stdout",
     "output_type": "stream",
     "text": [
      "I have eaten 99 burritos\n"
     ]
    }
   ],
   "source": [
    "''' \n",
    "10. Why does this expression cause an error? How can you fix it?\n",
    "'I have eaten'+ 99 + 'burritos'\n",
    " \n",
    " \n",
    " answer - number can not be treated as string . we have to convert number into string format for concatnation.\n",
    "\n",
    "'''\n",
    "print('I have eaten '+ '99'+ ' burritos')"
   ]
  },
  {
   "cell_type": "code",
   "execution_count": null,
   "metadata": {},
   "outputs": [],
   "source": []
  }
 ],
 "metadata": {
  "kernelspec": {
   "display_name": "base",
   "language": "python",
   "name": "python3"
  },
  "language_info": {
   "codemirror_mode": {
    "name": "ipython",
    "version": 3
   },
   "file_extension": ".py",
   "mimetype": "text/x-python",
   "name": "python",
   "nbconvert_exporter": "python",
   "pygments_lexer": "ipython3",
   "version": "3.9.13"
  },
  "orig_nbformat": 4,
  "vscode": {
   "interpreter": {
    "hash": "4fe78c3cfb4a3ed418f39c3fa922688a45887b758135729490bf50ded97a9a1e"
   }
  }
 },
 "nbformat": 4,
 "nbformat_minor": 2
}
