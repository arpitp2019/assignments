{
 "cells": [
  {
   "cell_type": "code",
   "execution_count": 1,
   "metadata": {},
   "outputs": [
    {
     "data": {
      "text/plain": [
       "' 1. Is the Python Standard Library included with PyInputPlus? \\n\\nAnswer - PyInputPlus is a third-party Python library.must install it separately using Pip\\n'"
      ]
     },
     "execution_count": 1,
     "metadata": {},
     "output_type": "execute_result"
    }
   ],
   "source": [
    "''' 1. Is the Python Standard Library included with PyInputPlus? \n",
    "\n",
    "Answer - PyInputPlus is a third-party Python library.must install it separately using Pip\n",
    "''' "
   ]
  },
  {
   "cell_type": "code",
   "execution_count": 2,
   "metadata": {},
   "outputs": [
    {
     "data": {
      "text/plain": [
       "' \\n 2. Why is PyInputPlus commonly imported with import pyinputplus as pypi?\\n\\nAnswer - Using an alias when importing a library is a common practice in Python and \\n         can help to make your code more readable and maintainable.\\n'"
      ]
     },
     "execution_count": 2,
     "metadata": {},
     "output_type": "execute_result"
    }
   ],
   "source": [
    "''' \n",
    " 2. Why is PyInputPlus commonly imported with import pyinputplus as pypi?\n",
    "\n",
    "Answer - Using an alias when importing a library is a common practice in Python and \n",
    "         can help to make your code more readable and maintainable.\n",
    "'''\n"
   ]
  },
  {
   "cell_type": "code",
   "execution_count": 3,
   "metadata": {},
   "outputs": [
    {
     "name": "stdout",
     "output_type": "stream",
     "text": [
      "Enter an integer: Enter a float: "
     ]
    }
   ],
   "source": [
    "''' \n",
    "3. How do you distinguish between inputInt() and inputFloat()?\n",
    "\n",
    "Answer - inputInt() and inputFloat() are functions provided for prompting the user to enter an integer or a float.\n",
    "\n",
    "'''\n",
    "\n",
    "import pyinputplus as pypi\n",
    "\n",
    "x = pypi.inputInt(prompt=\"Enter an integer: \")\n",
    "y = pypi.inputFloat(prompt=\"Enter a float: \")\n"
   ]
  },
  {
   "cell_type": "code",
   "execution_count": 9,
   "metadata": {},
   "outputs": [
    {
     "name": "stdout",
     "output_type": "stream",
     "text": [
      "Enter a whole number between 0 and 99: "
     ]
    },
    {
     "data": {
      "text/plain": [
       "34"
      ]
     },
     "execution_count": 9,
     "metadata": {},
     "output_type": "execute_result"
    }
   ],
   "source": [
    "''' \n",
    "4. Using PyInputPlus, how do you ensure that the user enters a whole number between 0 and 99?\n",
    "\n",
    "Answer - by using inputInt() and min,max arguments\n",
    "\n",
    "'''\n",
    "pypi.inputInt(prompt=\"Enter a whole number between 0 and 99: \", min=0, max=99)\n"
   ]
  },
  {
   "cell_type": "code",
   "execution_count": 5,
   "metadata": {},
   "outputs": [
    {
     "data": {
      "text/plain": [
       "' \\n\\n'"
      ]
     },
     "execution_count": 5,
     "metadata": {},
     "output_type": "execute_result"
    }
   ],
   "source": [
    "''' \n",
    "5. What is transferred to the keyword arguments allowRegexes and blockRegexes?\n",
    "\n",
    "Anwer - allowRegexes is used the input string must match.\n",
    "        If the input string does not match any of the regular \n",
    "        expressions in the list, the function will raise an exception.vice versa for blockRegexes.\n",
    "\n",
    "\n",
    "'''"
   ]
  },
  {
   "cell_type": "code",
   "execution_count": 10,
   "metadata": {},
   "outputs": [
    {
     "data": {
      "text/plain": [
       "' \\n6. If a blank input is entered three times, what does inputStr(limit=3) do?\\n\\nAnswer -  It will raise an exception after the third attempt.\\n\\n'"
      ]
     },
     "execution_count": 10,
     "metadata": {},
     "output_type": "execute_result"
    }
   ],
   "source": [
    "''' \n",
    "6. If a blank input is entered three times, what does inputStr(limit=3) do?\n",
    "\n",
    "Answer -  It will raise an exception after the third attempt.\n",
    "\n",
    "'''"
   ]
  },
  {
   "cell_type": "code",
   "execution_count": 14,
   "metadata": {},
   "outputs": [
    {
     "name": "stdout",
     "output_type": "stream",
     "text": [
      "Enter a string: "
     ]
    },
    {
     "data": {
      "text/plain": [
       "'ksmdssd'"
      ]
     },
     "execution_count": 14,
     "metadata": {},
     "output_type": "execute_result"
    }
   ],
   "source": [
    "''' \n",
    "7. If blank input is entered three times, what does inputStr(limit=3, default='hello') do?\n",
    "\n",
    "Answer - function will return the default value 'hello' after the third attempt.\n",
    "\n",
    "'''\n",
    "\n"
   ]
  },
  {
   "cell_type": "code",
   "execution_count": null,
   "metadata": {},
   "outputs": [],
   "source": []
  },
  {
   "cell_type": "code",
   "execution_count": null,
   "metadata": {},
   "outputs": [],
   "source": []
  }
 ],
 "metadata": {
  "kernelspec": {
   "display_name": "base",
   "language": "python",
   "name": "python3"
  },
  "language_info": {
   "codemirror_mode": {
    "name": "ipython",
    "version": 3
   },
   "file_extension": ".py",
   "mimetype": "text/x-python",
   "name": "python",
   "nbconvert_exporter": "python",
   "pygments_lexer": "ipython3",
   "version": "3.9.13 (main, Aug 25 2022, 23:26:10) \n[GCC 11.2.0]"
  },
  "orig_nbformat": 4,
  "vscode": {
   "interpreter": {
    "hash": "4fe78c3cfb4a3ed418f39c3fa922688a45887b758135729490bf50ded97a9a1e"
   }
  }
 },
 "nbformat": 4,
 "nbformat_minor": 2
}
