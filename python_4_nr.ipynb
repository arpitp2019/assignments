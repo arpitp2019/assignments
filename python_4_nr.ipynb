{
 "cells": [
  {
   "cell_type": "code",
   "execution_count": 1,
   "metadata": {},
   "outputs": [
    {
     "data": {
      "text/plain": [
       "' \\n1. What exactly is []?\\n\\nAnswer - an empty list\\n\\n'"
      ]
     },
     "execution_count": 1,
     "metadata": {},
     "output_type": "execute_result"
    }
   ],
   "source": [
    "''' \n",
    "1. What exactly is []?\n",
    "\n",
    "Answer - an empty list\n",
    "\n",
    "'''"
   ]
  },
  {
   "cell_type": "code",
   "execution_count": 2,
   "metadata": {},
   "outputs": [
    {
     "data": {
      "text/plain": [
       "[2, 4, 'hello', 8, 10]"
      ]
     },
     "execution_count": 2,
     "metadata": {},
     "output_type": "execute_result"
    }
   ],
   "source": [
    "''' \n",
    "2. In a list of values stored in a variable called spam, how would you assign the value 'hello'\n",
    "\n",
    "as the third value? (Assume [2, 4, 6, 8, 10] are in spam.)\n",
    "\n",
    "'''\n",
    "\n",
    "spam = [2, 4, 6, 8, 10]\n",
    "spam[2] = 'hello'\n",
    "spam"
   ]
  },
  {
   "cell_type": "code",
   "execution_count": 3,
   "metadata": {},
   "outputs": [
    {
     "data": {
      "text/plain": [
       "\" \\n3. What is the value of spam[int(int('3' * 2) / 11)]?\\n\\n\""
      ]
     },
     "execution_count": 3,
     "metadata": {},
     "output_type": "execute_result"
    }
   ],
   "source": [
    "''' \n",
    "3. What is the value of spam[int(int('3' * 2) / 11)]?\n",
    "\n",
    "'''\n"
   ]
  },
  {
   "cell_type": "code",
   "execution_count": null,
   "metadata": {},
   "outputs": [],
   "source": []
  },
  {
   "cell_type": "code",
   "execution_count": null,
   "metadata": {},
   "outputs": [],
   "source": []
  },
  {
   "cell_type": "code",
   "execution_count": 4,
   "metadata": {},
   "outputs": [
    {
     "data": {
      "text/plain": [
       "1"
      ]
     },
     "execution_count": 4,
     "metadata": {},
     "output_type": "execute_result"
    }
   ],
   "source": [
    "''' \n",
    "Let's pretend bacon has the list [3.14,'cat', 11, 'cat', True] for the next three questions.\n",
    "\n",
    "6. What is the value of bacon.index('cat')?\n",
    "'''\n",
    "\n",
    "bacon = [3.14,'cat', 11, 'cat', True]\n",
    "\n",
    "bacon.index('cat')\n",
    "\n"
   ]
  },
  {
   "cell_type": "code",
   "execution_count": 5,
   "metadata": {},
   "outputs": [
    {
     "data": {
      "text/plain": [
       "[3.14, 'cat', 11, 'cat', True, 99]"
      ]
     },
     "execution_count": 5,
     "metadata": {},
     "output_type": "execute_result"
    }
   ],
   "source": [
    "''' \n",
    "7. How does bacon.append(99) change the look of the list value in bacon?\n",
    "'''\n",
    "\n",
    "bacon.append(99)\n",
    "bacon"
   ]
  },
  {
   "cell_type": "code",
   "execution_count": 6,
   "metadata": {},
   "outputs": [
    {
     "data": {
      "text/plain": [
       "[3.14, 11, 'cat', True, 99]"
      ]
     },
     "execution_count": 6,
     "metadata": {},
     "output_type": "execute_result"
    }
   ],
   "source": [
    "''' \n",
    "8. How does bacon.remove('cat') change the look of the list in bacon?\n",
    "'''\n",
    "bacon.remove('cat')\n",
    "\n",
    "bacon\n",
    "\n",
    "#only first cat was deleted"
   ]
  },
  {
   "cell_type": "code",
   "execution_count": 7,
   "metadata": {},
   "outputs": [
    {
     "name": "stdout",
     "output_type": "stream",
     "text": [
      "after concatnation [23, 45, 7, 96, 46, 56, 67, 89, 45, 23]\n",
      "after replication [23, 45, 7, 96, 46, 23, 45, 7, 96, 46, 23, 45, 7, 96, 46]\n"
     ]
    }
   ],
   "source": [
    "''' \n",
    "9. What are the list concatenation and list replication operators?\n",
    "\n",
    "ANswer - Concatnation and replication works like addition ans multiplication operation in a list.\n",
    "\n",
    "'''\n",
    "#Example - \n",
    "#Concatnation\n",
    "lis1 = [23,45,7,96,46]\n",
    "lis2 = [56,67,89,45,23]\n",
    "\n",
    "print(f'after concatnation {lis1+lis2}')\n",
    "\n",
    "#Replication\n",
    "\n",
    "print(f'after replication {lis1*3}')\n",
    "\n"
   ]
  },
  {
   "cell_type": "code",
   "execution_count": 8,
   "metadata": {},
   "outputs": [
    {
     "name": "stdout",
     "output_type": "stream",
     "text": [
      "[23, 45, 7, 96, 46]\n",
      "[23, 45, 7, 96, 46, 20]\n",
      "[23, 45, 44, 7, 96, 46, 20]\n"
     ]
    }
   ],
   "source": [
    "''' \n",
    "10. What is difference between the list methods append() and insert()?\n",
    "\n",
    "Answer - append() adds the appended value at the last position of a list. \n",
    "\n",
    "         insert() adds the inserted value at the given position.\n",
    "'''\n",
    "\n",
    "print(lis1)\n",
    "lis1.append(20)\n",
    "print(lis1)\n",
    "\n",
    "lis1.insert(2,44)\n",
    "print(lis1)\n"
   ]
  },
  {
   "cell_type": "code",
   "execution_count": 9,
   "metadata": {},
   "outputs": [
    {
     "name": "stdout",
     "output_type": "stream",
     "text": [
      "the given list is - [23, 45, 44, 7, 96, 46, 20] after applying remove opeartion of digit (45, None),new list is [23, 44, 7, 96, 46, 20]\n",
      "the given list is - [56, 67, 89, 45, 23] after applying pop opeartion at 23, new list is [56, 67, 89, 45]\n"
     ]
    }
   ],
   "source": [
    "''' \n",
    "11. What are the two methods for removing items from a list?\n",
    "\n",
    "Answer - remove() and pop() are the 2 method that are use to remove items from a list.\n",
    "\n",
    "        The pop() method removes the element at a specified index, \n",
    "        \n",
    "        or the last element if no index is specified. .\n",
    "\n",
    "'''\n",
    "\n",
    "print(f'the given list is - {lis1} after applying remove opeartion of digit {lis1[1],lis1.remove(45)},new list is {lis1}')\n",
    "print(f'the given list is - {lis2} after applying pop opeartion at {lis2.pop()}, new list is {lis2}')"
   ]
  },
  {
   "cell_type": "code",
   "execution_count": 10,
   "metadata": {},
   "outputs": [
    {
     "data": {
      "text/plain": [
       "' \\n\\n'"
      ]
     },
     "execution_count": 10,
     "metadata": {},
     "output_type": "execute_result"
    }
   ],
   "source": [
    "''' \n",
    "12. Describe how list values and string values are identical.\n",
    "\n",
    "'''"
   ]
  },
  {
   "cell_type": "code",
   "execution_count": 11,
   "metadata": {},
   "outputs": [
    {
     "data": {
      "text/plain": [
       "' \\n\\n'"
      ]
     },
     "execution_count": 11,
     "metadata": {},
     "output_type": "execute_result"
    }
   ],
   "source": [
    "''' \n",
    "13. what's the difference between tuples and lists?\n",
    "\n",
    "'''"
   ]
  },
  {
   "cell_type": "code",
   "execution_count": 12,
   "metadata": {},
   "outputs": [
    {
     "data": {
      "text/plain": [
       "' \\n\\n'"
      ]
     },
     "execution_count": 12,
     "metadata": {},
     "output_type": "execute_result"
    }
   ],
   "source": [
    "''' \n",
    "14. How do you type a tuple value that only contains the integer 42?\n",
    "\n",
    "'''"
   ]
  },
  {
   "cell_type": "code",
   "execution_count": 36,
   "metadata": {},
   "outputs": [
    {
     "name": "stdout",
     "output_type": "stream",
     "text": [
      "(1, 2, 3)\n",
      "[1, 2, 3]\n"
     ]
    }
   ],
   "source": [
    "''' \n",
    "15. How do you get a list value's tuple form? How do you get a tuple value's list form?\n",
    "\n",
    "'''\n",
    "my_list = [1, 2, 3]\n",
    "my_tuple = tuple(my_list)\n",
    "\n",
    "print(my_tuple)  \n",
    "\n",
    "my_tuple = (1, 2, 3)\n",
    "my_list = list(my_tuple)\n",
    "\n",
    "print(my_list)"
   ]
  },
  {
   "cell_type": "code",
   "execution_count": 35,
   "metadata": {},
   "outputs": [
    {
     "name": "stdout",
     "output_type": "stream",
     "text": [
      "[7, 3, 9]\n",
      "[7, 3, 9, 9]\n"
     ]
    }
   ],
   "source": [
    "''' \n",
    "16. Variables that ''contain'' list values are not necessarily lists themselves. \n",
    "\n",
    "    Instead, what do they contain?\n",
    "\n",
    "Answer -when you assign a list to a variable, you are not creating a new copy of the list, \n",
    "\n",
    "        you are just creating a new reference to the same list.  \n",
    "\n",
    "'''\n",
    "lis_org = [7,3,9]\n",
    "my_variable = lis_org\n",
    "\n",
    "print(my_variable)  \n",
    "\n",
    "my_variable.append(9)\n",
    "print(lis_org)  \n"
   ]
  },
  {
   "cell_type": "code",
   "execution_count": 33,
   "metadata": {},
   "outputs": [
    {
     "name": "stdout",
     "output_type": "stream",
     "text": [
      "[7, 4, 2, 7, 9] [7, 4, 2, 7, 9]\n",
      "9\n",
      "after making change in lis2, original lis1 is also changed [7, 4, 2, 7]\n",
      "------------------------------------------------------\n",
      "[6, 7, 3, 5, 4] [6, 7, 3, 5, 4]\n",
      "4\n",
      "after making change in lis4, original lis3 is same as before [6, 7, 3, 5, 4]\n"
     ]
    }
   ],
   "source": [
    "''' \n",
    "17. How do you distinguish between copy.copy() and copy.deepcopy()?\n",
    "''' \n",
    "lis1 = [7,4,2,7,9]\n",
    "lis2 = lis1 #we have created deep copy. deep_copy is a new list with a new memory address, recursively copied to create new objects.\n",
    "print(lis1,lis2)\n",
    "print(lis2.pop())\n",
    "print(f'after making change in lis2, original lis1 is also changed {lis1}')\n",
    "print('------------------------------------------------------')\n",
    "lis3 = [6,7,3,5,4]\n",
    "lis4 =  lis3.copy() #we have created shallow copy. shallow_copy is a new list with a new memory address, recursively copied to create new objects.\n",
    "print(lis3,lis4)\n",
    "print(lis4.pop())\n",
    "print(f'after making change in lis4, original lis3 is same as before {lis3}')\n"
   ]
  },
  {
   "cell_type": "code",
   "execution_count": null,
   "metadata": {},
   "outputs": [],
   "source": []
  }
 ],
 "metadata": {
  "kernelspec": {
   "display_name": "base",
   "language": "python",
   "name": "python3"
  },
  "language_info": {
   "codemirror_mode": {
    "name": "ipython",
    "version": 3
   },
   "file_extension": ".py",
   "mimetype": "text/x-python",
   "name": "python",
   "nbconvert_exporter": "python",
   "pygments_lexer": "ipython3",
   "version": "3.9.13"
  },
  "orig_nbformat": 4,
  "vscode": {
   "interpreter": {
    "hash": "4fe78c3cfb4a3ed418f39c3fa922688a45887b758135729490bf50ded97a9a1e"
   }
  }
 },
 "nbformat": 4,
 "nbformat_minor": 2
}
