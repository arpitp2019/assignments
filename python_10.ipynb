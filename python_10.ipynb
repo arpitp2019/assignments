{
 "cells": [
  {
   "cell_type": "code",
   "execution_count": null,
   "metadata": {},
   "outputs": [],
   "source": [
    "''' \n",
    "1. How do you distinguish between shutil.copy() and shutil.copytree()?\n",
    "\n",
    "'''\n",
    "\n",
    "# shutil.copy() is a function that copies a single file from a source to a destination,\n",
    "import shutil\n",
    "\n",
    "shutil.copy('example.txt', 'destination_folder')\n",
    "\n",
    "# shutil.copytree() is a function that copies an entire directory, along with all its contents, from a source to a destination.\n",
    "\n",
    "\n",
    "shutil.copytree('source_directory', 'destination_folder')\n",
    "\n"
   ]
  },
  {
   "cell_type": "code",
   "execution_count": null,
   "metadata": {},
   "outputs": [],
   "source": [
    "''' \n",
    "2. What function is used to rename files??\n",
    "\n",
    "Answer - we can use os.rename function to rename files\n",
    "'''\n",
    "\n",
    "import os\n",
    "\n",
    "os.rename('current_file_name.txt', 'new_file_name.txt')\n"
   ]
  },
  {
   "cell_type": "code",
   "execution_count": null,
   "metadata": {},
   "outputs": [],
   "source": [
    "''' \n",
    "3. What is the difference between the delete functions in the send2trash and shutil modules?\n",
    "\n",
    "Answer - send2trash use to send file to recycle bin\n",
    "         the shutil module provides a rmtree() function \n",
    "         that can be used to permanently delete a directory and all its contents. \n",
    "\n",
    "'''\n",
    "\n",
    "import send2trash\n",
    "\n",
    "send2trash.send2trash('file.txt')# send to recycle bin\n",
    "shutil.rmtree('directory_to_delete') # permanent delete"
   ]
  },
  {
   "cell_type": "code",
   "execution_count": null,
   "metadata": {},
   "outputs": [],
   "source": [
    "''' \n",
    "4.ZipFile objects have a close() method just like File objects close() method. What ZipFile method is\n",
    "equivalent to File objects open() method?\n",
    "\n",
    "Answer - we can use __enter__() and __exit__() method that can be used in a with statement \n",
    "         to open a ZipFile object,just like the open() function is used to open a File object.\n",
    "         \n",
    "'''"
   ]
  },
  {
   "cell_type": "code",
   "execution_count": 1,
   "metadata": {},
   "outputs": [
    {
     "name": "stdout",
     "output_type": "stream",
     "text": [
      "Copying /home/helium/Desktop/data_science/ineuron assignments/python/python_6.ipynb to /home/helium/Desktop/eng/\n",
      "Copying /home/helium/Desktop/data_science/ineuron assignments/python/python_5.ipynb to /home/helium/Desktop/eng/\n",
      "Copying /home/helium/Desktop/data_science/ineuron assignments/python/python_10.ipynb to /home/helium/Desktop/eng/\n",
      "Copying /home/helium/Desktop/data_science/ineuron assignments/python/python_3.ipynb to /home/helium/Desktop/eng/\n",
      "Copying /home/helium/Desktop/data_science/ineuron assignments/python/python_4_nr.ipynb to /home/helium/Desktop/eng/\n",
      "Copying /home/helium/Desktop/data_science/ineuron assignments/python/python_7_nr.ipynb to /home/helium/Desktop/eng/\n",
      "Copying /home/helium/Desktop/data_science/ineuron assignments/python/python_8.ipynb to /home/helium/Desktop/eng/\n",
      "Copying /home/helium/Desktop/data_science/ineuron assignments/python/python_2.ipynb to /home/helium/Desktop/eng/\n",
      "Copying /home/helium/Desktop/data_science/ineuron assignments/python/python_9.ipynb to /home/helium/Desktop/eng/\n",
      "Copying /home/helium/Desktop/data_science/ineuron assignments/python/python_1.ipynb to /home/helium/Desktop/eng/\n"
     ]
    }
   ],
   "source": [
    "''' \n",
    "5. Create a programme that searches a folder tree for files with a certain file extension \n",
    "(such as .pdf or .jpg). Copy these files from whatever location they are in to a new folder.\n",
    "'''\n",
    "\n",
    "import os\n",
    "import shutil\n",
    "\n",
    "\n",
    "root_dir = '/home/helium/Desktop/data_science/ineuron assignments/python'\n",
    "\n",
    "\n",
    "file_extension = '.ipynb'\n",
    "\n",
    "\n",
    "destin_dir = '/home/helium/Desktop/eng/'\n",
    "\n",
    "\n",
    "for root, dirs, files in os.walk(root_dir):\n",
    "\n",
    "    for file in files:\n",
    "        if file.endswith(file_extension):\n",
    "   \n",
    "            file_path = os.path.join(root, file)\n",
    "            print(f'Copying {file_path} to {destin_dir}')\n",
    "            \n",
    "            shutil.copy(file_path, destin_dir)\n",
    "\n",
    "''' output is - \n",
    "Copying /home/helium/Desktop/data_science/ineuron assignments/python/python_6.ipynb to /home/helium/Desktop/eng/\n",
    "Copying /home/helium/Desktop/data_science/ineuron assignments/python/python_5.ipynb to /home/helium/Desktop/eng/\n",
    "Copying /home/helium/Desktop/data_science/ineuron assignments/python/python_10.ipynb to /home/helium/Desktop/eng/\n",
    "Copying /home/helium/Desktop/data_science/ineuron assignments/python/python_3.ipynb to /home/helium/Desktop/eng/\n",
    "Copying /home/helium/Desktop/data_science/ineuron assignments/python/python_4_nr.ipynb to /home/helium/Desktop/eng/\n",
    "Copying /home/helium/Desktop/data_science/ineuron assignments/python/python_7_nr.ipynb to /home/helium/Desktop/eng/\n",
    "Copying /home/helium/Desktop/data_science/ineuron assignments/python/python_8.ipynb to /home/helium/Desktop/eng/\n",
    "Copying /home/helium/Desktop/data_science/ineuron assignments/python/python_2.ipynb to /home/helium/Desktop/eng/\n",
    "Copying /home/helium/Desktop/data_science/ineuron assignments/python/python_9.ipynb to /home/helium/Desktop/eng/\n",
    "Copying /home/helium/Desktop/data_science/ineuron assignments/python/python_1.ipynb to /home/helium/Desktop/eng/ \n",
    "'''"
   ]
  },
  {
   "cell_type": "code",
   "execution_count": null,
   "metadata": {},
   "outputs": [],
   "source": []
  }
 ],
 "metadata": {
  "kernelspec": {
   "display_name": "base",
   "language": "python",
   "name": "python3"
  },
  "language_info": {
   "codemirror_mode": {
    "name": "ipython",
    "version": 3
   },
   "file_extension": ".py",
   "mimetype": "text/x-python",
   "name": "python",
   "nbconvert_exporter": "python",
   "pygments_lexer": "ipython3",
   "version": "3.9.13"
  },
  "orig_nbformat": 4,
  "vscode": {
   "interpreter": {
    "hash": "4fe78c3cfb4a3ed418f39c3fa922688a45887b758135729490bf50ded97a9a1e"
   }
  }
 },
 "nbformat": 4,
 "nbformat_minor": 2
}
