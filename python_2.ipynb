{
 "cells": [
  {
   "cell_type": "code",
   "execution_count": 4,
   "metadata": {},
   "outputs": [
    {
     "data": {
      "text/plain": [
       "'\\n1.What are the two values of the Boolean data type? How do you write them?\\n\\nAnswer - True and False\\n\\nTo write ,simply use the words \"True\" or \"False\" \\n\\nx = True\\ny = False\\n\\n'"
      ]
     },
     "execution_count": 4,
     "metadata": {},
     "output_type": "execute_result"
    }
   ],
   "source": [
    "'''\n",
    "1.What are the two values of the Boolean data type? How do you write them?\n",
    "\n",
    "Answer - True and False\n",
    "\n",
    "To write ,simply use the words \"True\" or \"False\" \n",
    "\n",
    "x = True\n",
    "y = False\n",
    "\n",
    "'''"
   ]
  },
  {
   "cell_type": "code",
   "execution_count": 5,
   "metadata": {},
   "outputs": [
    {
     "data": {
      "text/plain": [
       "'\\n2. What are the three different types of Boolean operators?\\n\\n\\nLogical operators\\nTrue , False\\n\\nComparison operators\\n==, !=, <, >, <=, >=\\n\\nIdentity operators\\nis, is not\\n\\n'"
      ]
     },
     "execution_count": 5,
     "metadata": {},
     "output_type": "execute_result"
    }
   ],
   "source": [
    "'''\n",
    "2. What are the three different types of Boolean operators?\n",
    "\n",
    "\n",
    "Logical operators\n",
    "True , False\n",
    "\n",
    "Comparison operators\n",
    "==, !=, <, >, <=, >=\n",
    "\n",
    "Identity operators\n",
    "is, is not\n",
    "\n",
    "'''\n"
   ]
  },
  {
   "cell_type": "code",
   "execution_count": 6,
   "metadata": {},
   "outputs": [
    {
     "data": {
      "text/plain": [
       "' \\n3. Make a list of each Boolean operator&#39;s truth tables \\n\\n(i.e. every possible combination of Boolean\\nvalues for the operator and what it evaluate ).\\n\\nLogical Operators:\\n\\nand:\\n\\nTrue and True = True\\nTrue and False = False\\nFalse and True = False\\nFalse and False = False\\nor:\\n\\nTrue or True = True\\nTrue or False = True\\nFalse or True = True\\nFalse or False = False\\nnot:\\n\\nnot True = False\\nnot False = True\\nComparison Operators:\\n==:\\n\\nTrue == True = True\\nTrue == False = False\\nFalse == True = False\\nFalse == False = True\\n!=:\\n\\nTrue != True = False\\nTrue != False = True\\nFalse != True = True\\nFalse != False = False\\n:\\n\\nTrue > True = False\\nTrue > False = True\\nFalse > True = False\\nFalse > False = False\\n<:\\n\\nTrue < True = False\\nTrue < False = False\\nFalse < True = True\\nFalse < False = False\\n=:\\n\\nTrue >= True = True\\nTrue >= False = True\\nFalse >= True = False\\nFalse >= False = True\\n<=:\\n\\nTrue <= True = True\\nTrue <= False = False\\nFalse <= True = True\\nFalse <= False = True\\nIdentity Operators:\\nis:\\n\\nTrue is True = True\\nTrue is False = False\\nFalse is True = False\\nFalse is False = False\\nis not:\\n\\nTrue is not True = False\\nTrue is not False = True\\nFalse is not True = True\\nFalse is not False = True\\n'"
      ]
     },
     "execution_count": 6,
     "metadata": {},
     "output_type": "execute_result"
    }
   ],
   "source": [
    "''' \n",
    "3. Make a list of each Boolean operator's truth tables \n",
    "\n",
    "(i.e. every possible combination of Boolean\n",
    "values for the operator and what it evaluate ).\n",
    "\n",
    "Logical Operators:\n",
    "\n",
    "and:\n",
    "\n",
    "True and True = True\n",
    "True and False = False\n",
    "False and True = False\n",
    "False and False = False\n",
    "or:\n",
    "\n",
    "True or True = True\n",
    "True or False = True\n",
    "False or True = True\n",
    "False or False = False\n",
    "not:\n",
    "\n",
    "not True = False\n",
    "not False = True\n",
    "Comparison Operators:\n",
    "==:\n",
    "\n",
    "True == True = True\n",
    "True == False = False\n",
    "False == True = False\n",
    "False == False = True\n",
    "!=:\n",
    "\n",
    "True != True = False\n",
    "True != False = True\n",
    "False != True = True\n",
    "False != False = False\n",
    ":\n",
    "\n",
    "True > True = False\n",
    "True > False = True\n",
    "False > True = False\n",
    "False > False = False\n",
    "<:\n",
    "\n",
    "True < True = False\n",
    "True < False = False\n",
    "False < True = True\n",
    "False < False = False\n",
    "=:\n",
    "\n",
    "True >= True = True\n",
    "True >= False = True\n",
    "False >= True = False\n",
    "False >= False = True\n",
    "<=:\n",
    "\n",
    "True <= True = True\n",
    "True <= False = False\n",
    "False <= True = True\n",
    "False <= False = True\n",
    "Identity Operators:\n",
    "is:\n",
    "\n",
    "True is True = True\n",
    "True is False = False\n",
    "False is True = False\n",
    "False is False = False\n",
    "is not:\n",
    "\n",
    "True is not True = False\n",
    "True is not False = True\n",
    "False is not True = True\n",
    "False is not False = True\n",
    "'''"
   ]
  },
  {
   "cell_type": "code",
   "execution_count": 9,
   "metadata": {},
   "outputs": [
    {
     "name": "stdout",
     "output_type": "stream",
     "text": [
      "False\n",
      "False\n",
      "True\n",
      "False\n",
      "False\n",
      "True\n"
     ]
    }
   ],
   "source": [
    "''' \n",
    "4. What are the values of the following expressions?\n",
    "(5 > 4) and (3 == 5)\n",
    "not (5 > 4)\n",
    "(5 > 4) or (3 == 5)\n",
    "not ((5 > 4) or (3 == 5))\n",
    "(True and True) and (True == False)\n",
    "(not False) or (not True)\n",
    "'''\n",
    "# evaluate (5 > 4) and (3 == 5)\n",
    "result = (5 > 4) and (3 == 5)\n",
    "print(result)  \n",
    "\n",
    "# evaluate not (5 > 4)\n",
    "result = not (5 > 4)\n",
    "print(result) \n",
    "\n",
    "# evaluate (5 > 4) or (3 == 5)\n",
    "result = (5 > 4) or (3 == 5)\n",
    "print(result) \n",
    "\n",
    "# evaluate not ((5 > 4) or (3 == 5))\n",
    "result = not ((5 > 4) or (3 == 5))\n",
    "print(result)  \n",
    "\n",
    "# evaluate (True and True) and (True == False)\n",
    "result = (True and True) and (True == False)\n",
    "print(result)  \n",
    "\n",
    "# evaluate (not False) or (not True)\n",
    "result = (not False) or (not True)\n",
    "print(result) \n",
    "\n"
   ]
  },
  {
   "cell_type": "code",
   "execution_count": 10,
   "metadata": {},
   "outputs": [
    {
     "data": {
      "text/plain": [
       "' \\n5. What are the six comparison operators?\\n\\n\\n == \\n !=\\n >  \\n < \\n >= \\n <=\\n\\n'"
      ]
     },
     "execution_count": 10,
     "metadata": {},
     "output_type": "execute_result"
    }
   ],
   "source": [
    "''' \n",
    "5. What are the six comparison operators?\n",
    "\n",
    "\n",
    " == \n",
    " !=\n",
    " >  \n",
    " < \n",
    " >= \n",
    " <=\n",
    "\n",
    "'''"
   ]
  },
  {
   "cell_type": "code",
   "execution_count": 15,
   "metadata": {},
   "outputs": [
    {
     "name": "stdout",
     "output_type": "stream",
     "text": [
      "False\n",
      "3\n",
      "['x is equal to 10']\n"
     ]
    }
   ],
   "source": [
    "''' \n",
    "6. How do you tell the difference between the equal to and assignment operators?\n",
    "\n",
    "Describe a condition and when you would use one.\n",
    "\n",
    "'''\n",
    "# Comparison operator\n",
    "x = 6\n",
    "y = 8\n",
    "print(x == y)  \n",
    "\n",
    "# Assignment operator\n",
    "x = 3\n",
    "y = 7\n",
    "z = x\n",
    "print(z) \n",
    "\n",
    "#condition where i will use\n",
    "x = 10\n",
    "print([\"x is equal to 10\" if x == 10 else \"x is not equal to 10\"])"
   ]
  },
  {
   "cell_type": "code",
   "execution_count": 18,
   "metadata": {},
   "outputs": [
    {
     "name": "stdout",
     "output_type": "stream",
     "text": [
      "ham\n",
      "spam\n",
      "spam\n"
     ]
    }
   ],
   "source": [
    "''' \n",
    "7. Identify the three blocks in this code:\n",
    "spam = 0\n",
    "if spam == 10:\n",
    "print('eggs')\n",
    "if spam > 5:\n",
    "print('bacon')\n",
    "else:\n",
    "print('ham')\n",
    "print('spam')\n",
    "print('spam')\n",
    "\n",
    "'''\n",
    "spam = 0\n",
    "\n",
    "# First block\n",
    "if spam == 10:\n",
    "    \n",
    "    print('eggs')\n",
    "\n",
    "# Second block\n",
    "if spam > 5:\n",
    "    \n",
    "    print('bacon')\n",
    "\n",
    "# Third block\n",
    "else:\n",
    "    print('ham')\n",
    "    print('spam')\n",
    "    print('spam')\n",
    "\n"
   ]
  },
  {
   "cell_type": "code",
   "execution_count": 20,
   "metadata": {},
   "outputs": [
    {
     "name": "stdout",
     "output_type": "stream",
     "text": [
      "Greetings!\n"
     ]
    }
   ],
   "source": [
    "''' \n",
    "8. Write code that prints Hello if 1 is stored in spam, \n",
    "prints Howdy if 2 is stored in spam, and prints\n",
    "Greetings! if anything else is stored in spam.\n",
    "'''\n",
    "spam = 7\n",
    "if spam == 1:\n",
    "    print(\"Hello\")\n",
    "elif spam == 2:\n",
    "    print(\"Howdy\")\n",
    "else:\n",
    "    print(\"Greetings!\")\n"
   ]
  },
  {
   "cell_type": "code",
   "execution_count": 21,
   "metadata": {},
   "outputs": [
    {
     "data": {
      "text/plain": [
       "' \\n9.If your programme is stuck in an endless loop, what keys you will press?\\n\\nCTRL + C\\n'"
      ]
     },
     "execution_count": 21,
     "metadata": {},
     "output_type": "execute_result"
    }
   ],
   "source": [
    "''' \n",
    "9.If your programme is stuck in an endless loop, what keys you will press?\n",
    "\n",
    "CTRL + C\n",
    "'''"
   ]
  },
  {
   "cell_type": "code",
   "execution_count": null,
   "metadata": {},
   "outputs": [],
   "source": [
    "''' \n",
    "10. How can you tell the difference between break and continue?\n",
    "\n",
    "\"break\" statement is use to exit a loop early, \n",
    "before the loop condition is False. \n",
    "\n",
    "\"continue\" statement is used to skip the rest of the current iteration \n",
    "of a loop and move on to the next iteration. \n",
    "'''"
   ]
  },
  {
   "cell_type": "code",
   "execution_count": 24,
   "metadata": {},
   "outputs": [
    {
     "name": "stdout",
     "output_type": "stream",
     "text": [
      "[0, 1, 2, 3, 4, 5, 6, 7, 8, 9]\n",
      "[0, 1, 2, 3, 4, 5, 6, 7, 8, 9]\n",
      "[0, 1, 2, 3, 4, 5, 6, 7, 8, 9]\n",
      "No DIfference\n"
     ]
    }
   ],
   "source": [
    "''' \n",
    "11. In a for loop, what is the difference between range(10), range(0, 10), and range(0, 10, 1)?\n",
    "\n",
    "'''\n",
    "print([i for i in range(10)])\n",
    "print([i for i in range(0,10)])\n",
    "print([i for i in range(0,10,1)])\n",
    "print('No DIfference')\n"
   ]
  },
  {
   "cell_type": "code",
   "execution_count": 35,
   "metadata": {},
   "outputs": [
    {
     "name": "stdout",
     "output_type": "stream",
     "text": [
      "using for loop - [1, 2, 3, 4, 5, 6, 7, 8, 9, 10]\n",
      "-------------------------\n",
      "using while loop\n",
      "1\n",
      "2\n",
      "3\n",
      "4\n",
      "5\n",
      "6\n",
      "7\n",
      "8\n",
      "9\n",
      "10\n"
     ]
    }
   ],
   "source": [
    "''' \n",
    "12. Write a short program that prints the numbers 1 to 10 using a for loop. Then write an equivalent\n",
    "\n",
    "program that prints the numbers 1 to 10 using a while loop.\n",
    "'''\n",
    "print(f'using for loop - {[i for i in range(1, 11)]}')\n",
    "print(\"-------------------------\")\n",
    "print('using while loop')\n",
    "i = 1\n",
    "while i <= 10:\n",
    "    print(i)\n",
    "    i += 1\n"
   ]
  },
  {
   "cell_type": "code",
   "execution_count": null,
   "metadata": {},
   "outputs": [],
   "source": [
    "''' \n",
    "13. If you had a function named bacon() inside a module named spam, how would you call it after\n",
    "\n",
    "importing spam?\n",
    "\n",
    "Answer - \n",
    "\n",
    "import spam\n",
    "\n",
    "spam.bacon()\n",
    "'''\n"
   ]
  },
  {
   "cell_type": "code",
   "execution_count": null,
   "metadata": {},
   "outputs": [],
   "source": []
  }
 ],
 "metadata": {
  "kernelspec": {
   "display_name": "base",
   "language": "python",
   "name": "python3"
  },
  "language_info": {
   "codemirror_mode": {
    "name": "ipython",
    "version": 3
   },
   "file_extension": ".py",
   "mimetype": "text/x-python",
   "name": "python",
   "nbconvert_exporter": "python",
   "pygments_lexer": "ipython3",
   "version": "3.9.13 (main, Aug 25 2022, 23:26:10) \n[GCC 11.2.0]"
  },
  "orig_nbformat": 4,
  "vscode": {
   "interpreter": {
    "hash": "4fe78c3cfb4a3ed418f39c3fa922688a45887b758135729490bf50ded97a9a1e"
   }
  }
 },
 "nbformat": 4,
 "nbformat_minor": 2
}
