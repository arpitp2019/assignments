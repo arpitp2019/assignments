{
 "cells": [
  {
   "cell_type": "code",
   "execution_count": 1,
   "metadata": {},
   "outputs": [
    {
     "data": {
      "text/plain": [
       "' \\n1. What are escape characters, and how do you use them?\\n\\nAnswer - escape characters are used to represent certain special characters in a string, \\n         newline (\\n), \\n         tab (\\t)\\n         quotation marks (\")\\n         Backslash (\\'\\\\\\')etc . \\n\\n'"
      ]
     },
     "execution_count": 1,
     "metadata": {},
     "output_type": "execute_result"
    }
   ],
   "source": [
    "''' \n",
    "1. What are escape characters, and how do you use them?\n",
    "\n",
    "Answer - escape characters are used to represent certain special characters in a string, \n",
    "         newline (\\n), \n",
    "         tab (\\t)\n",
    "         quotation marks (\\\")\n",
    "         Backslash ('\\\\')etc . \n",
    "\n",
    "'''\n"
   ]
  },
  {
   "cell_type": "code",
   "execution_count": 5,
   "metadata": {},
   "outputs": [
    {
     "name": "stdout",
     "output_type": "stream",
     "text": [
      "this is an example for\n",
      " to change the line\n",
      "this is and example\tto give tab in a sentence\n"
     ]
    }
   ],
   "source": [
    "''' \n",
    "2. What do the escape characters n and t stand for?\n",
    "\n",
    "Answer - \n",
    "'''\n",
    "print(f'this is an example for\\n to change the line')\n",
    " # to change the line\n",
    "\n",
    "print(f'this is and example\\tto give tab in a sentence')\n",
    "# to give tag space \n",
    "\n"
   ]
  },
  {
   "cell_type": "code",
   "execution_count": 6,
   "metadata": {},
   "outputs": [
    {
     "data": {
      "text/plain": [
       "\" \\n3. What is the way to include backslash characters in a string?\\n\\nAnswer - '\\\\'\\n\""
      ]
     },
     "execution_count": 6,
     "metadata": {},
     "output_type": "execute_result"
    }
   ],
   "source": [
    "''' \n",
    "3. What is the way to include backslash characters in a string?\n",
    "\n",
    "Answer - '\\\\'\n",
    "'''\n"
   ]
  },
  {
   "cell_type": "code",
   "execution_count": 10,
   "metadata": {},
   "outputs": [
    {
     "name": "stdout",
     "output_type": "stream",
     "text": [
      "big bazar shopping list - \n",
      "cheese\n",
      "bread\n"
     ]
    }
   ],
   "source": [
    "''' \n",
    "5. How do you write a string of newlines if you don't want to use the n character?\n",
    "\n",
    "'''\n",
    "#by using os.linesep \n",
    "\n",
    "import os\n",
    "\n",
    "s = \"big bazar shopping list - \" + os.linesep + \"cheese\" + os.linesep + \"bread\"\n",
    "print(s)\n"
   ]
  },
  {
   "cell_type": "code",
   "execution_count": 12,
   "metadata": {},
   "outputs": [
    {
     "name": "stdout",
     "output_type": "stream",
     "text": [
      "e\n",
      "Hello\n",
      "Hello\n",
      "lo, world!\n"
     ]
    }
   ],
   "source": [
    "''' \n",
    "6. What are the values of the given expressions?\n",
    "'Hello, world!'[1]\n",
    "'Hello, world!'[0:5]\n",
    "'Hello, world!'[:5]\n",
    "'Hello, world!'[3:]\n",
    "\n",
    "'''\n",
    "print('Hello, world!'[1]) \n",
    "print('Hello, world!'[0:5])\n",
    "print('Hello, world!'[:5])\n",
    "print('Hello, world!'[3:])\n"
   ]
  },
  {
   "cell_type": "code",
   "execution_count": 17,
   "metadata": {},
   "outputs": [
    {
     "name": "stdout",
     "output_type": "stream",
     "text": [
      "HELLO\n",
      "True\n",
      "hello\n"
     ]
    }
   ],
   "source": [
    "''' 7. What are the values of the following expressions? '''\n",
    "print('Hello'.upper())\n",
    "print('Hello'.upper().isupper())\n",
    "print('Hello'.upper().lower())"
   ]
  },
  {
   "cell_type": "code",
   "execution_count": 18,
   "metadata": {},
   "outputs": [
    {
     "name": "stdout",
     "output_type": "stream",
     "text": [
      "['Remember,', 'remember,', 'the', 'fifth', 'of', 'July.']\n",
      "There-can-only-one.\n"
     ]
    }
   ],
   "source": [
    "''' 8. What are the values of the following expressions? '''\n",
    "print('Remember, remember, the fifth of July.'.split())\n",
    "print('-'.join('There can only one.'.split()))"
   ]
  },
  {
   "cell_type": "code",
   "execution_count": 36,
   "metadata": {},
   "outputs": [
    {
     "name": "stdout",
     "output_type": "stream",
     "text": [
      "                      Remember, the fifth of July.\n",
      "Remember, the fifth of July.\n",
      "center -                                                                                        Remember, the fifth of July.                                                                                      \n"
     ]
    }
   ],
   "source": [
    "''' 9. What are the methods for right-justifying, left-justifying, and centering a string?'''\n",
    "\n",
    "rj = 'Remember, the fifth of July.'\n",
    "print(rj.rjust(50))\n",
    "\n",
    "lj ='Remember, the fifth of July.'\n",
    "print(lj.ljust(22))\n",
    "\n",
    "ct = 'Remember, the fifth of July.'\n",
    "print('center - ', ct.center(200))\n",
    "\n"
   ]
  },
  {
   "cell_type": "code",
   "execution_count": 39,
   "metadata": {},
   "outputs": [
    {
     "name": "stdout",
     "output_type": "stream",
     "text": [
      "                      Remember, the fifth of July.                    \n",
      "Remember, the fifth of July.\n"
     ]
    }
   ],
   "source": [
    "''' 10. What is the best way to remove whitespace characters from the start or end?'''\n",
    "# using Strip method\n",
    "s = \"                      Remember, the fifth of July.                    \"\n",
    "print(s)                  \n",
    "s = s.strip()\n",
    "print(s)\n"
   ]
  },
  {
   "cell_type": "code",
   "execution_count": null,
   "metadata": {},
   "outputs": [],
   "source": []
  }
 ],
 "metadata": {
  "kernelspec": {
   "display_name": "base",
   "language": "python",
   "name": "python3"
  },
  "language_info": {
   "codemirror_mode": {
    "name": "ipython",
    "version": 3
   },
   "file_extension": ".py",
   "mimetype": "text/x-python",
   "name": "python",
   "nbconvert_exporter": "python",
   "pygments_lexer": "ipython3",
   "version": "3.9.13 (main, Aug 25 2022, 23:26:10) \n[GCC 11.2.0]"
  },
  "orig_nbformat": 4,
  "vscode": {
   "interpreter": {
    "hash": "4fe78c3cfb4a3ed418f39c3fa922688a45887b758135729490bf50ded97a9a1e"
   }
  }
 },
 "nbformat": 4,
 "nbformat_minor": 2
}
